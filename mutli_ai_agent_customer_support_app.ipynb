{
  "nbformat": 4,
  "nbformat_minor": 0,
  "metadata": {
    "colab": {
      "provenance": [],
      "toc_visible": true,
      "authorship_tag": "ABX9TyNgjyp8Uj27pMGM5dwpN4MP",
      "include_colab_link": true
    },
    "kernelspec": {
      "name": "python3",
      "display_name": "Python 3"
    },
    "language_info": {
      "name": "python"
    }
  },
  "cells": [
    {
      "cell_type": "markdown",
      "metadata": {
        "id": "view-in-github",
        "colab_type": "text"
      },
      "source": [
        "<a href=\"https://colab.research.google.com/github/abduljawwad/mutli-ai-agent-customer-support-application/blob/main/mutli_ai_agent_customer_support_app.ipynb\" target=\"_parent\"><img src=\"https://colab.research.google.com/assets/colab-badge.svg\" alt=\"Open In Colab\"/></a>"
      ]
    },
    {
      "cell_type": "markdown",
      "source": [
        "**Following steps were involved in making this app:**\n",
        "\n",
        "1.   Initialisation\n",
        "2.   State Definition\n",
        "3.   Instantiate llm\n",
        "3.   Define node functions\n",
        "4.   Workflow Compilation\n",
        "5.   Query Execution\n"
      ],
      "metadata": {
        "id": "xUi5eJ1EHubV"
      }
    },
    {
      "cell_type": "code",
      "execution_count": 2,
      "metadata": {
        "colab": {
          "base_uri": "https://localhost:8080/"
        },
        "id": "TrYpfWttZiGb",
        "outputId": "e896af01-92c1-4453-b62c-b40c495393e3"
      },
      "outputs": [
        {
          "output_type": "stream",
          "name": "stdout",
          "text": [
            "Requirement already satisfied: langchain in /usr/local/lib/python3.10/dist-packages (0.3.12)\n",
            "Requirement already satisfied: langchain_core in /usr/local/lib/python3.10/dist-packages (0.3.25)\n",
            "Collecting langchain_groq\n",
            "  Downloading langchain_groq-0.2.2-py3-none-any.whl.metadata (3.0 kB)\n",
            "Collecting langchain_community\n",
            "  Downloading langchain_community-0.3.13-py3-none-any.whl.metadata (2.9 kB)\n",
            "Collecting langgraph\n",
            "  Downloading langgraph-0.2.60-py3-none-any.whl.metadata (15 kB)\n",
            "Requirement already satisfied: PyYAML>=5.3 in /usr/local/lib/python3.10/dist-packages (from langchain) (6.0.2)\n",
            "Requirement already satisfied: SQLAlchemy<3,>=1.4 in /usr/local/lib/python3.10/dist-packages (from langchain) (2.0.36)\n",
            "Requirement already satisfied: aiohttp<4.0.0,>=3.8.3 in /usr/local/lib/python3.10/dist-packages (from langchain) (3.11.10)\n",
            "Requirement already satisfied: async-timeout<5.0.0,>=4.0.0 in /usr/local/lib/python3.10/dist-packages (from langchain) (4.0.3)\n",
            "Requirement already satisfied: langchain-text-splitters<0.4.0,>=0.3.3 in /usr/local/lib/python3.10/dist-packages (from langchain) (0.3.3)\n",
            "Requirement already satisfied: langsmith<0.3,>=0.1.17 in /usr/local/lib/python3.10/dist-packages (from langchain) (0.2.3)\n",
            "Requirement already satisfied: numpy<2,>=1.22.4 in /usr/local/lib/python3.10/dist-packages (from langchain) (1.26.4)\n",
            "Requirement already satisfied: pydantic<3.0.0,>=2.7.4 in /usr/local/lib/python3.10/dist-packages (from langchain) (2.10.3)\n",
            "Requirement already satisfied: requests<3,>=2 in /usr/local/lib/python3.10/dist-packages (from langchain) (2.32.3)\n",
            "Requirement already satisfied: tenacity!=8.4.0,<10,>=8.1.0 in /usr/local/lib/python3.10/dist-packages (from langchain) (9.0.0)\n",
            "Requirement already satisfied: jsonpatch<2.0,>=1.33 in /usr/local/lib/python3.10/dist-packages (from langchain_core) (1.33)\n",
            "Requirement already satisfied: packaging<25,>=23.2 in /usr/local/lib/python3.10/dist-packages (from langchain_core) (24.2)\n",
            "Requirement already satisfied: typing-extensions>=4.7 in /usr/local/lib/python3.10/dist-packages (from langchain_core) (4.12.2)\n",
            "Collecting groq<1,>=0.4.1 (from langchain_groq)\n",
            "  Downloading groq-0.13.1-py3-none-any.whl.metadata (14 kB)\n",
            "Collecting langchain_core\n",
            "  Downloading langchain_core-0.3.28-py3-none-any.whl.metadata (6.3 kB)\n",
            "Collecting dataclasses-json<0.7,>=0.5.7 (from langchain_community)\n",
            "  Downloading dataclasses_json-0.6.7-py3-none-any.whl.metadata (25 kB)\n",
            "Collecting httpx-sse<0.5.0,>=0.4.0 (from langchain_community)\n",
            "  Downloading httpx_sse-0.4.0-py3-none-any.whl.metadata (9.0 kB)\n",
            "Collecting langchain\n",
            "  Downloading langchain-0.3.13-py3-none-any.whl.metadata (7.1 kB)\n",
            "Collecting pydantic-settings<3.0.0,>=2.4.0 (from langchain_community)\n",
            "  Downloading pydantic_settings-2.7.1-py3-none-any.whl.metadata (3.5 kB)\n",
            "Collecting langgraph-checkpoint<3.0.0,>=2.0.4 (from langgraph)\n",
            "  Downloading langgraph_checkpoint-2.0.9-py3-none-any.whl.metadata (4.6 kB)\n",
            "Collecting langgraph-sdk<0.2.0,>=0.1.42 (from langgraph)\n",
            "  Downloading langgraph_sdk-0.1.48-py3-none-any.whl.metadata (1.8 kB)\n",
            "Requirement already satisfied: aiohappyeyeballs>=2.3.0 in /usr/local/lib/python3.10/dist-packages (from aiohttp<4.0.0,>=3.8.3->langchain) (2.4.4)\n",
            "Requirement already satisfied: aiosignal>=1.1.2 in /usr/local/lib/python3.10/dist-packages (from aiohttp<4.0.0,>=3.8.3->langchain) (1.3.2)\n",
            "Requirement already satisfied: attrs>=17.3.0 in /usr/local/lib/python3.10/dist-packages (from aiohttp<4.0.0,>=3.8.3->langchain) (24.3.0)\n",
            "Requirement already satisfied: frozenlist>=1.1.1 in /usr/local/lib/python3.10/dist-packages (from aiohttp<4.0.0,>=3.8.3->langchain) (1.5.0)\n",
            "Requirement already satisfied: multidict<7.0,>=4.5 in /usr/local/lib/python3.10/dist-packages (from aiohttp<4.0.0,>=3.8.3->langchain) (6.1.0)\n",
            "Requirement already satisfied: propcache>=0.2.0 in /usr/local/lib/python3.10/dist-packages (from aiohttp<4.0.0,>=3.8.3->langchain) (0.2.1)\n",
            "Requirement already satisfied: yarl<2.0,>=1.17.0 in /usr/local/lib/python3.10/dist-packages (from aiohttp<4.0.0,>=3.8.3->langchain) (1.18.3)\n",
            "Collecting marshmallow<4.0.0,>=3.18.0 (from dataclasses-json<0.7,>=0.5.7->langchain_community)\n",
            "  Downloading marshmallow-3.23.2-py3-none-any.whl.metadata (7.1 kB)\n",
            "Collecting typing-inspect<1,>=0.4.0 (from dataclasses-json<0.7,>=0.5.7->langchain_community)\n",
            "  Downloading typing_inspect-0.9.0-py3-none-any.whl.metadata (1.5 kB)\n",
            "Requirement already satisfied: anyio<5,>=3.5.0 in /usr/local/lib/python3.10/dist-packages (from groq<1,>=0.4.1->langchain_groq) (3.7.1)\n",
            "Requirement already satisfied: distro<2,>=1.7.0 in /usr/local/lib/python3.10/dist-packages (from groq<1,>=0.4.1->langchain_groq) (1.9.0)\n",
            "Requirement already satisfied: httpx<1,>=0.23.0 in /usr/local/lib/python3.10/dist-packages (from groq<1,>=0.4.1->langchain_groq) (0.28.1)\n",
            "Requirement already satisfied: sniffio in /usr/local/lib/python3.10/dist-packages (from groq<1,>=0.4.1->langchain_groq) (1.3.1)\n",
            "Requirement already satisfied: jsonpointer>=1.9 in /usr/local/lib/python3.10/dist-packages (from jsonpatch<2.0,>=1.33->langchain_core) (3.0.0)\n",
            "Requirement already satisfied: msgpack<2.0.0,>=1.1.0 in /usr/local/lib/python3.10/dist-packages (from langgraph-checkpoint<3.0.0,>=2.0.4->langgraph) (1.1.0)\n",
            "Requirement already satisfied: orjson>=3.10.1 in /usr/local/lib/python3.10/dist-packages (from langgraph-sdk<0.2.0,>=0.1.42->langgraph) (3.10.12)\n",
            "Requirement already satisfied: requests-toolbelt<2.0.0,>=1.0.0 in /usr/local/lib/python3.10/dist-packages (from langsmith<0.3,>=0.1.17->langchain) (1.0.0)\n",
            "Requirement already satisfied: annotated-types>=0.6.0 in /usr/local/lib/python3.10/dist-packages (from pydantic<3.0.0,>=2.7.4->langchain) (0.7.0)\n",
            "Requirement already satisfied: pydantic-core==2.27.1 in /usr/local/lib/python3.10/dist-packages (from pydantic<3.0.0,>=2.7.4->langchain) (2.27.1)\n",
            "Collecting python-dotenv>=0.21.0 (from pydantic-settings<3.0.0,>=2.4.0->langchain_community)\n",
            "  Downloading python_dotenv-1.0.1-py3-none-any.whl.metadata (23 kB)\n",
            "Requirement already satisfied: charset-normalizer<4,>=2 in /usr/local/lib/python3.10/dist-packages (from requests<3,>=2->langchain) (3.4.0)\n",
            "Requirement already satisfied: idna<4,>=2.5 in /usr/local/lib/python3.10/dist-packages (from requests<3,>=2->langchain) (3.10)\n",
            "Requirement already satisfied: urllib3<3,>=1.21.1 in /usr/local/lib/python3.10/dist-packages (from requests<3,>=2->langchain) (2.2.3)\n",
            "Requirement already satisfied: certifi>=2017.4.17 in /usr/local/lib/python3.10/dist-packages (from requests<3,>=2->langchain) (2024.12.14)\n",
            "Requirement already satisfied: greenlet!=0.4.17 in /usr/local/lib/python3.10/dist-packages (from SQLAlchemy<3,>=1.4->langchain) (3.1.1)\n",
            "Requirement already satisfied: exceptiongroup in /usr/local/lib/python3.10/dist-packages (from anyio<5,>=3.5.0->groq<1,>=0.4.1->langchain_groq) (1.2.2)\n",
            "Requirement already satisfied: httpcore==1.* in /usr/local/lib/python3.10/dist-packages (from httpx<1,>=0.23.0->groq<1,>=0.4.1->langchain_groq) (1.0.7)\n",
            "Requirement already satisfied: h11<0.15,>=0.13 in /usr/local/lib/python3.10/dist-packages (from httpcore==1.*->httpx<1,>=0.23.0->groq<1,>=0.4.1->langchain_groq) (0.14.0)\n",
            "Collecting mypy-extensions>=0.3.0 (from typing-inspect<1,>=0.4.0->dataclasses-json<0.7,>=0.5.7->langchain_community)\n",
            "  Downloading mypy_extensions-1.0.0-py3-none-any.whl.metadata (1.1 kB)\n",
            "Downloading langchain_groq-0.2.2-py3-none-any.whl (14 kB)\n",
            "Downloading langchain_core-0.3.28-py3-none-any.whl (411 kB)\n",
            "\u001b[2K   \u001b[90m━━━━━━━━━━━━━━━━━━━━━━━━━━━━━━━━━━━━━━━━\u001b[0m \u001b[32m411.6/411.6 kB\u001b[0m \u001b[31m7.9 MB/s\u001b[0m eta \u001b[36m0:00:00\u001b[0m\n",
            "\u001b[?25hDownloading langchain_community-0.3.13-py3-none-any.whl (2.5 MB)\n",
            "\u001b[2K   \u001b[90m━━━━━━━━━━━━━━━━━━━━━━━━━━━━━━━━━━━━━━━━\u001b[0m \u001b[32m2.5/2.5 MB\u001b[0m \u001b[31m49.7 MB/s\u001b[0m eta \u001b[36m0:00:00\u001b[0m\n",
            "\u001b[?25hDownloading langchain-0.3.13-py3-none-any.whl (1.0 MB)\n",
            "\u001b[2K   \u001b[90m━━━━━━━━━━━━━━━━━━━━━━━━━━━━━━━━━━━━━━━━\u001b[0m \u001b[32m1.0/1.0 MB\u001b[0m \u001b[31m48.4 MB/s\u001b[0m eta \u001b[36m0:00:00\u001b[0m\n",
            "\u001b[?25hDownloading langgraph-0.2.60-py3-none-any.whl (135 kB)\n",
            "\u001b[2K   \u001b[90m━━━━━━━━━━━━━━━━━━━━━━━━━━━━━━━━━━━━━━━━\u001b[0m \u001b[32m135.7/135.7 kB\u001b[0m \u001b[31m8.9 MB/s\u001b[0m eta \u001b[36m0:00:00\u001b[0m\n",
            "\u001b[?25hDownloading dataclasses_json-0.6.7-py3-none-any.whl (28 kB)\n",
            "Downloading groq-0.13.1-py3-none-any.whl (109 kB)\n",
            "\u001b[2K   \u001b[90m━━━━━━━━━━━━━━━━━━━━━━━━━━━━━━━━━━━━━━━━\u001b[0m \u001b[32m109.1/109.1 kB\u001b[0m \u001b[31m8.3 MB/s\u001b[0m eta \u001b[36m0:00:00\u001b[0m\n",
            "\u001b[?25hDownloading httpx_sse-0.4.0-py3-none-any.whl (7.8 kB)\n",
            "Downloading langgraph_checkpoint-2.0.9-py3-none-any.whl (37 kB)\n",
            "Downloading langgraph_sdk-0.1.48-py3-none-any.whl (43 kB)\n",
            "\u001b[2K   \u001b[90m━━━━━━━━━━━━━━━━━━━━━━━━━━━━━━━━━━━━━━━━\u001b[0m \u001b[32m43.7/43.7 kB\u001b[0m \u001b[31m3.0 MB/s\u001b[0m eta \u001b[36m0:00:00\u001b[0m\n",
            "\u001b[?25hDownloading pydantic_settings-2.7.1-py3-none-any.whl (29 kB)\n",
            "Downloading marshmallow-3.23.2-py3-none-any.whl (49 kB)\n",
            "\u001b[2K   \u001b[90m━━━━━━━━━━━━━━━━━━━━━━━━━━━━━━━━━━━━━━━━\u001b[0m \u001b[32m49.3/49.3 kB\u001b[0m \u001b[31m3.7 MB/s\u001b[0m eta \u001b[36m0:00:00\u001b[0m\n",
            "\u001b[?25hDownloading python_dotenv-1.0.1-py3-none-any.whl (19 kB)\n",
            "Downloading typing_inspect-0.9.0-py3-none-any.whl (8.8 kB)\n",
            "Downloading mypy_extensions-1.0.0-py3-none-any.whl (4.7 kB)\n",
            "Installing collected packages: python-dotenv, mypy-extensions, marshmallow, httpx-sse, typing-inspect, pydantic-settings, langgraph-sdk, groq, dataclasses-json, langchain_core, langgraph-checkpoint, langchain_groq, langgraph, langchain, langchain_community\n",
            "  Attempting uninstall: langchain_core\n",
            "    Found existing installation: langchain-core 0.3.25\n",
            "    Uninstalling langchain-core-0.3.25:\n",
            "      Successfully uninstalled langchain-core-0.3.25\n",
            "  Attempting uninstall: langchain\n",
            "    Found existing installation: langchain 0.3.12\n",
            "    Uninstalling langchain-0.3.12:\n",
            "      Successfully uninstalled langchain-0.3.12\n",
            "Successfully installed dataclasses-json-0.6.7 groq-0.13.1 httpx-sse-0.4.0 langchain-0.3.13 langchain_community-0.3.13 langchain_core-0.3.28 langchain_groq-0.2.2 langgraph-0.2.60 langgraph-checkpoint-2.0.9 langgraph-sdk-0.1.48 marshmallow-3.23.2 mypy-extensions-1.0.0 pydantic-settings-2.7.1 python-dotenv-1.0.1 typing-inspect-0.9.0\n"
          ]
        }
      ],
      "source": [
        "!pip install langchain langchain_core langchain_groq langchain_community langgraph"
      ]
    },
    {
      "cell_type": "code",
      "source": [
        "from typing import TypedDict, Dict\n",
        "from langgraph.graph import StateGraph, END\n",
        "from langchain_core.prompts import ChatPromptTemplate\n",
        "from langchain_core.runnables.graph import MermaidDrawMethod\n",
        "from IPython.display import Image, display"
      ],
      "metadata": {
        "id": "UIQPi68YZ6cQ"
      },
      "execution_count": 3,
      "outputs": []
    },
    {
      "cell_type": "markdown",
      "source": [
        "Define State Structure"
      ],
      "metadata": {
        "id": "9MqJnVLwcebY"
      }
    },
    {
      "cell_type": "code",
      "source": [
        "class State(TypedDict):\n",
        "  query: str\n",
        "  category: str\n",
        "  sentiment: str\n",
        "  response: str"
      ],
      "metadata": {
        "id": "5_7QXe0EcZVG"
      },
      "execution_count": 4,
      "outputs": []
    },
    {
      "cell_type": "markdown",
      "source": [
        "Instantiates the `llama-3.3-70b-versatile` model from ChatGroq. Please ensure to place `groq_api_key.txt` file with a valid API key in Google Drive under `My Drive` folder\n",
        "\n",
        "\n",
        "\n"
      ],
      "metadata": {
        "id": "wxFttw9YDbJe"
      }
    },
    {
      "cell_type": "code",
      "source": [
        "from langchain_groq import ChatGroq\n",
        "from google.colab import drive\n",
        "\n",
        "drive.mount('/content/drive')\n",
        "\n",
        "with open('/content/drive/My Drive/groq_api_key.txt', 'r') as f:\n",
        "  groq_api_key = f.read().strip()\n",
        "\n",
        "llm = ChatGroq(\n",
        "    temperature=0,\n",
        "    verbose=True,\n",
        "    groq_api_key = groq_api_key,\n",
        "    model='llama-3.3-70b-versatile'\n",
        ")"
      ],
      "metadata": {
        "colab": {
          "base_uri": "https://localhost:8080/"
        },
        "id": "tSQfnUEpfNwk",
        "outputId": "3b46822f-4722-40c8-8d55-3c52f3a6df7e"
      },
      "execution_count": 23,
      "outputs": [
        {
          "output_type": "stream",
          "name": "stdout",
          "text": [
            "Drive already mounted at /content/drive; to attempt to forcibly remount, call drive.mount(\"/content/drive\", force_remount=True).\n"
          ]
        }
      ]
    },
    {
      "cell_type": "markdown",
      "source": [
        "Define Node Functions"
      ],
      "metadata": {
        "id": "NNq7gP-NdL-q"
      }
    },
    {
      "cell_type": "code",
      "source": [
        "def categorize(state: State) -> State:\n",
        "  \"Categorizes the customer's query as either Technical, Billing, or General\"\n",
        "  prompt = ChatPromptTemplate.from_template(\n",
        "    \"\"\"\n",
        "    Categorize the following customer's query into one of these categories:\n",
        "    - Technical\n",
        "    - Billing\n",
        "    - General\n",
        "\n",
        "    customer's query: {query}\n",
        "\n",
        "    Respond with the category only.\n",
        "    \"\"\"\n",
        "  )\n",
        "  chain = prompt | llm\n",
        "  state[\"category\"] = chain.invoke({\"query\": state[\"query\"] }).content\n",
        "  return state\n",
        "\n",
        "def analyze_sentiment(state: State) -> State:\n",
        "  \"\"\"Analyzes the sentiment of the customer's query.\n",
        "\n",
        "  Classifies the sentiment as either Positive, Negative, or Neutral.\n",
        "  Updates the input 'state' with the extracted sentiment.\n",
        "\n",
        "  Args:\n",
        "    state: A dictionary containing the customer's query under the \"query\" key.\n",
        "\n",
        "  Returns:\n",
        "    The updated 'state' dictionary with the sentiment added under the \"sentiment\" key.\n",
        "  \"\"\"\n",
        "  prompt = ChatPromptTemplate.from_template(\n",
        "    \"\"\"\n",
        "    Analyze and classify the sentiment of the customer's query into one of the following categories:\n",
        "    - Positive\n",
        "    - Negative\n",
        "    - Neutral\n",
        "\n",
        "    customer's query: {query}\n",
        "\n",
        "    Respond with the category only.\n",
        "    \"\"\"\n",
        "  )\n",
        "  chain = prompt | llm\n",
        "  state[\"sentiment\"] = chain.invoke({\"query\": state[\"query\"] }).content\n",
        "  return state\n",
        "\n",
        "def generate_technical_response(state: State) -> State:\n",
        "  \"Generates a technical response for the customer's query\"\n",
        "  prompt = ChatPromptTemplate.from_template(\n",
        "    \"\"\"\n",
        "    Please generate a clear step-by-step technical support response in markdown format for the following customer's query:\n",
        "\n",
        "    customer's query: {query}\n",
        "    \"\"\"\n",
        "  )\n",
        "  chain = prompt | llm\n",
        "  state[\"response\"] = chain.invoke({\"query\": state[\"query\"] }).content\n",
        "  return state\n",
        "\n",
        "def generate_billing_response(state: State) -> State:\n",
        "  \"Generates a billing response for the customer's query\"\n",
        "  prompt = ChatPromptTemplate.from_template(\n",
        "    \"\"\"\n",
        "    Please generate a clear step-by-step billing support response for the following customer's query:\n",
        "\n",
        "    customer's query: {query}\n",
        "    \"\"\"\n",
        "  )\n",
        "  chain = prompt | llm\n",
        "  state[\"response\"] = chain.invoke({\"query\": state[\"query\"] }).content\n",
        "  return state\n",
        "\n",
        "def generate_generic_response(state: State) -> State:\n",
        "  \"Generates a generic response for the customer's query\"\n",
        "  prompt = ChatPromptTemplate.from_template(\n",
        "    \"\"\"\n",
        "    Please generate a clear step-by-step generic support response for the following customer's query:\n",
        "\n",
        "    customer's query: {query}\n",
        "    \"\"\"\n",
        "  )\n",
        "  chain = prompt | llm\n",
        "  state[\"response\"] = chain.invoke({\"query\": state[\"query\"] }).content\n",
        "  return state\n",
        "\n",
        "def escalate_query(state: State) -> State:\n",
        "  \"Escalates the customer's query to the customer support team\"\n",
        "  state[\"response\"] = \"This query has been escalated to the customer support team because of it's negative sentiment.\"\n",
        "  return state\n",
        "\n",
        "def route_query(state: State) -> State:\n",
        "    \"\"\"Routes the customer's query to the appropriate support response.\"\"\"\n",
        "    if state.get('sentiment') == 'Negative':\n",
        "        return 'Escalate'  # Go to Escalate node\n",
        "    elif 'category' not in state:\n",
        "        return 'Categorize'  # Go to Categorize node if category is not determined\n",
        "    elif state['category'] == 'Technical':\n",
        "        return 'Technical query'  # Go to Technical query node\n",
        "    elif state['category'] == 'Billing':\n",
        "        return 'Billing query'  # Go to Billing query node\n",
        "    else:\n",
        "        return 'Generic query'"
      ],
      "metadata": {
        "id": "iev_vYSudKT3"
      },
      "execution_count": 25,
      "outputs": []
    },
    {
      "cell_type": "markdown",
      "source": [
        "Create and configure the workflow graph"
      ],
      "metadata": {
        "id": "ZbGWAzkT88A5"
      }
    },
    {
      "cell_type": "code",
      "source": [
        "workflow= StateGraph(State)\n",
        "\n",
        "workflow.add_node('Analyze Sentiment', analyze_sentiment)\n",
        "workflow.add_node('Categorize', categorize)\n",
        "workflow.add_node('Technical query', generate_technical_response)\n",
        "workflow.add_node('Billing query', generate_billing_response)\n",
        "workflow.add_node('Generic query', generate_generic_response)\n",
        "workflow.add_node('Escalate', escalate_query)\n",
        "\n",
        "workflow.add_conditional_edges('Analyze Sentiment', route_query, {\n",
        "    'Escalate': 'Escalate',\n",
        "    'Categorize': 'Categorize'\n",
        "})\n",
        "\n",
        "workflow.add_conditional_edges('Categorize', route_query, {\n",
        "    'Technical query': 'Technical query',\n",
        "    'Billing query': 'Billing query',\n",
        "    'Generic query': 'Generic query',\n",
        "})\n",
        "\n",
        "workflow.add_edge('Escalate', END)\n",
        "workflow.add_edge('Technical query', END)\n",
        "workflow.add_edge('Billing query', END)\n",
        "workflow.add_edge('Generic query', END)\n",
        "\n",
        "workflow.set_entry_point('Analyze Sentiment')\n",
        "\n",
        "app = workflow.compile()"
      ],
      "metadata": {
        "id": "Skly7oM986xQ"
      },
      "execution_count": 26,
      "outputs": []
    },
    {
      "cell_type": "markdown",
      "source": [
        "Visualize the workflow graph"
      ],
      "metadata": {
        "id": "4_vldTL-FqHf"
      }
    },
    {
      "cell_type": "code",
      "source": [
        "display(\n",
        "    Image(\n",
        "        app.get_graph().draw_mermaid_png(\n",
        "            draw_method=MermaidDrawMethod.API\n",
        "        )\n",
        "    )\n",
        ")"
      ],
      "metadata": {
        "colab": {
          "base_uri": "https://localhost:8080/",
          "height": 435
        },
        "id": "8G1qfb7QBCAF",
        "outputId": "fdc26fee-eb64-4eb3-c996-d8377bdf8f55"
      },
      "execution_count": 27,
      "outputs": [
        {
          "output_type": "display_data",
          "data": {
            "image/png": "[encoded data removed]",
            "text/plain": [
              "<IPython.core.display.Image object>"
            ]
          },
          "metadata": {}
        }
      ]
    },
    {
      "cell_type": "markdown",
      "source": [
        "Define and run customer support function with a customer query"
      ],
      "metadata": {
        "id": "hKdsrf0FHvLM"
      }
    },
    {
      "cell_type": "code",
      "source": [
        "def run_customer_support(query:str) -> Dict[str, str]:\n",
        "  result = app.invoke({'query': query})\n",
        "  return {\n",
        "      'query': query,\n",
        "      'category': result.get('category', None),\n",
        "      'sentiment': result.get('sentiment', None),\n",
        "      'response': result['response']\n",
        "  }"
      ],
      "metadata": {
        "id": "l7Djl1S_GHRH"
      },
      "execution_count": 28,
      "outputs": []
    },
    {
      "cell_type": "code",
      "source": [
        "  query = 'How can I resolve issues with my ISP?'\n",
        "  run_customer_support(query)"
      ],
      "metadata": {
        "colab": {
          "base_uri": "https://localhost:8080/"
        },
        "id": "Nx4dPzMtIFvC",
        "outputId": "fbdf1cf7-0b6b-4e7e-f760-7a54e251474a"
      },
      "execution_count": 29,
      "outputs": [
        {
          "output_type": "execute_result",
          "data": {
            "text/plain": [
              "{'query': 'How can I resolve issues with my ISP?',\n",
              " 'category': 'Technical',\n",
              " 'sentiment': 'Neutral',\n",
              " 'response': '### Resolving Issues with Your Internet Service Provider (ISP)\\n#### Step 1: Identify the Issue\\nBefore contacting your ISP, try to identify the nature of the problem. Ask yourself:\\n* Is your internet connection slow or intermittent?\\n* Are you experiencing issues with a specific website or online service?\\n* Have you recently made any changes to your network or hardware?\\n\\n#### Step 2: Restart Your Router\\nRestarting your router can often resolve connectivity issues. To do this:\\n1. Unplug the power cord from the back of the router.\\n2. Wait for 30 seconds to allow any residual power to drain.\\n3. Plug the power cord back in and turn on the router.\\n4. Wait for the router to boot up and stabilize (this may take a few minutes).\\n\\n#### Step 3: Check for Outages in Your Area\\nVisit your ISP\\'s website or social media pages to check for any reported outages in your area. You can also:\\n* Check with your neighbors to see if they are experiencing similar issues.\\n* Use online outage tracking tools to see if there are any known issues in your area.\\n\\n#### Step 4: Contact Your ISP\\'s Technical Support\\nIf restarting your router and checking for outages do not resolve the issue, contact your ISP\\'s technical support:\\n1. Visit your ISP\\'s website and look for a \"Contact Us\" or \"Support\" section.\\n2. Call the phone number provided or use the online chat feature.\\n3. Be prepared to provide your account information and a detailed description of the issue.\\n\\n#### Step 5: Troubleshoot with Your ISP\\nWork with your ISP\\'s technical support to troubleshoot the issue:\\n* They may ask you to perform additional troubleshooting steps, such as checking your modem lights or running a speed test.\\n* They may also send a technician to your location to investigate the issue.\\n\\n#### Step 6: Escalate the Issue (If Necessary)\\nIf your ISP\\'s technical support is unable to resolve the issue, ask to escalate the problem to a senior technician or a supervisor:\\n* Explain the issue and the steps you have taken so far.\\n* Provide any relevant documentation, such as error messages or speed test results.\\n* Request a follow-up call or email to ensure the issue is resolved.\\n\\n#### Additional Tips\\n* Keep a record of your interactions with your ISP, including dates, times, and the names of the representatives you speak with.\\n* Be patient and persistent when working with your ISP to resolve the issue.\\n* Consider using online resources, such as ISP review websites or forums, to research and compare different ISPs in your area.'}"
            ]
          },
          "metadata": {},
          "execution_count": 29
        }
      ]
    },
    {
      "cell_type": "code",
      "source": [],
      "metadata": {
        "id": "DLAW-28FIsKj"
      },
      "execution_count": null,
      "outputs": []
    }
  ]
}